{
 "cells": [
  {
   "cell_type": "markdown",
   "id": "cde39c3e",
   "metadata": {},
   "source": [
    "## IPP Assignment 1"
   ]
  },
  {
   "cell_type": "markdown",
   "id": "393cffae",
   "metadata": {},
   "source": [
    "### GRADE (Jennifer)\n",
    "\n",
    "**Problem** | *Correctness (5)* | *Clarity (2.5)* | *Efficiency (2.5)*| COMMENT\n",
    "---|---|---|---|---\n",
    "**1** | 5/5 | 5/2.5 | 2.5/2.5| Extra points for inserting an image to Jupyter notebook. \n",
    "**2.1** | 5 | 2.5 | 2.5|\n",
    "**2.2** | 5 | 2.5 | 2.5|\n",
    "**2.3** | 5 | 2.5 | 1.5/2.5|You can simply write; \"if number%2==1:\"\" to check if the iterating element is an odd number of not. Setting index number as 3 (3 in l.insert(3,number)) is meaningless in this case. You can simply write; \"l.append(number)\"\n",
    "**3** | 0/5 | 0/2.5 | 0/2.5| The data type of your outcome is a list instead of a dictonary. Please refer to the answer sheet.\n",
    "**TOTAL SCORE** | **41.5/50**"
   ]
  },
  {
   "cell_type": "markdown",
   "id": "b812b6f2",
   "metadata": {},
   "source": [
    "A Jupyter notebook, a Python interface, mainly consists of two types of cells: Markdown and Code cells. A Code cell is a block of contents that contain snippets of code written in Python Programming Language. A markdown cell is a block of contents that contain text and sometimes image.\n",
    "\n",
    "As you progress, you may realize the importance of markdown cells while programming with python language. Markdown cells allow you to keep track of what you've done in the Code cells by displaying titles or a brief summary of tasks in a text format (You can add headings, emphasis (bold or italic text), mathematical symbols, bullets and horizontal lines etc). This assignment is meant to guide you to become familiar with markdown language.\n",
    "\n"
   ]
  },
  {
   "cell_type": "markdown",
   "id": "971d4779",
   "metadata": {},
   "source": [
    "### Problem 1. Using markdown language, write an introduction of yourself. You can use multiple markdown cells to create a neat introduction of yourself.\n"
   ]
  },
  {
   "cell_type": "markdown",
   "id": "b6e039cd",
   "metadata": {},
   "source": [
    "Hi, my name is Jennifer! I'm from Houston, Texas. I'm very excited to begin the PhD journey at INSEAD. I hope to use psychology research to address workplace challenges and conflicts. \n",
    "\n",
    "I look forward to connecting with everyone. Please feel free to add me on [LinkedIn](www.linkedin.com/in/jennifer-lee848)\n",
    " \n",
    "\n",
    "#### Here are some non-academic facts about me:\n",
    "- I enjoy hiking and backpacking and hope to one day complete the Camino de Santiago (Way of St. James) in Spain.\n",
    "- I picked up chess over the pandemic this past year.\n",
    "- I am a dedicated follower of Studio Ghibli films. \n",
    " "
   ]
  },
  {
   "cell_type": "markdown",
   "id": "1193fa40",
   "metadata": {},
   "source": [
    "<h3 align=\"center\">Have a lovely day!</h3> \n",
    "\n",
    "![dogUrl](https://media.giphy.com/media/4Zo41lhzKt6iZ8xff9/giphy.gif \"dog\") \n",
    "\n"
   ]
  },
  {
   "cell_type": "markdown",
   "id": "e5ef58ed",
   "metadata": {},
   "source": [
    "### Problem 2"
   ]
  },
  {
   "cell_type": "markdown",
   "id": "4bfbef84",
   "metadata": {},
   "source": [
    "For problem 2, use the following list (called i) & dictionary (called d)\n",
    "* Note that i is a list which contains 9 elements.\n",
    "* Note that d is a dictionary which has 9 keys and values."
   ]
  },
  {
   "cell_type": "code",
   "execution_count": 1,
   "id": "7312739b",
   "metadata": {},
   "outputs": [
    {
     "name": "stdout",
     "output_type": "stream",
     "text": [
      "['I', 'N', 'S', 'E', 'A', 'D', 'P', 'H', 'D']\n",
      "{0: 'I', 1: 'N', 2: 'S', 3: 'E', 4: 'A', 5: 'D', 6: 'P', 7: 'H', 8: 'D'}\n"
     ]
    }
   ],
   "source": [
    "i=['I','N','S','E','A','D','P','H','D']\n",
    "d={}\n",
    "for count, value in enumerate(i):\n",
    "    d[count]=value\n",
    "    \n",
    "print(i)\n",
    "print(d)"
   ]
  },
  {
   "cell_type": "markdown",
   "id": "1cf26b3e",
   "metadata": {},
   "source": [
    "#### Problem 2.1 Write a for loop that prints the first six elements of the list (i), using both 'IF' and 'BREAK' statments within the loop."
   ]
  },
  {
   "cell_type": "code",
   "execution_count": 2,
   "id": "98d92860",
   "metadata": {},
   "outputs": [
    {
     "name": "stdout",
     "output_type": "stream",
     "text": [
      "I\n",
      "N\n",
      "S\n",
      "E\n",
      "A\n",
      "D\n"
     ]
    }
   ],
   "source": [
    "# Write a for loop that produces the following output in this cell.\n",
    "\n",
    "##############################################################################################\n",
    "\n",
    "# for letter in i[:6]:\n",
    "#     print (letter)\n",
    "    \n",
    "for letter in i:\n",
    "        if i.index(letter) < 6:\n",
    "            print (letter)\n",
    "        elif i.index(letter) == 7:\n",
    "            break\n",
    "        \n",
    "##############################################################################################"
   ]
  },
  {
   "cell_type": "markdown",
   "id": "77bb20f4",
   "metadata": {},
   "source": [
    "#### Problem 2.2 Write a for loop that prints all the elements except 'D' in the list (i) using if and continue statement within the loop."
   ]
  },
  {
   "cell_type": "code",
   "execution_count": 3,
   "id": "4d980b0d",
   "metadata": {},
   "outputs": [
    {
     "name": "stdout",
     "output_type": "stream",
     "text": [
      "I\n",
      "N\n",
      "S\n",
      "E\n",
      "A\n",
      "P\n",
      "H\n"
     ]
    }
   ],
   "source": [
    "# Write a for loop that produces the following output in this cell.\n",
    "##############################################################################################\n",
    "for letter in i:\n",
    "        if letter != \"D\":\n",
    "            print (letter)\n",
    "        elif letter == \"D\":\n",
    "            continue \n",
    "##############################################################################################"
   ]
  },
  {
   "cell_type": "markdown",
   "id": "77b58618",
   "metadata": {},
   "source": [
    "#### Problem 2.3 Create an empty list called l. Write a for loop that adds only odd dictionary keys of d in l (l is the emply list that you've created). Then prints l."
   ]
  },
  {
   "cell_type": "code",
   "execution_count": 4,
   "id": "f5c450fb",
   "metadata": {},
   "outputs": [
    {
     "data": {
      "text/plain": [
       "dict_keys([0, 1, 2, 3, 4, 5, 6, 7, 8])"
      ]
     },
     "execution_count": 4,
     "metadata": {},
     "output_type": "execute_result"
    }
   ],
   "source": [
    "d.keys()"
   ]
  },
  {
   "cell_type": "code",
   "execution_count": 7,
   "id": "94327f31",
   "metadata": {},
   "outputs": [
    {
     "name": "stdout",
     "output_type": "stream",
     "text": [
      "0\n",
      "1\n",
      "0\n",
      "1\n",
      "0\n",
      "1\n",
      "0\n",
      "1\n",
      "0\n"
     ]
    }
   ],
   "source": [
    "##############################################################################################\n",
    "for number in d.keys():\n",
    "    if number % 2 == 1:\n",
    "        l.insert()"
   ]
  },
  {
   "cell_type": "code",
   "execution_count": null,
   "id": "48cd1c61",
   "metadata": {},
   "outputs": [],
   "source": []
  },
  {
   "cell_type": "code",
   "execution_count": 61,
   "id": "85c4e244",
   "metadata": {},
   "outputs": [
    {
     "name": "stdout",
     "output_type": "stream",
     "text": [
      "[1, 3, 5, 7]\n"
     ]
    }
   ],
   "source": [
    "# Write a for loop that produces the following output in this cell.\n",
    "# Start with creating a list called l\n",
    "l=[]\n",
    "##############################################################################################\n",
    "for number in d.keys():\n",
    "    if (number % 2 - 1) == 0: # you can simply write; \"if number%2==1:\"\" to check if the iterating element is an odd number of not.\n",
    "        #print (number)\n",
    "        l.insert(3, number) # setting index number (3) is meaningless in this case. You can simply write; \"l.append(number)\"\n",
    "    \n",
    "##############################################################################################\n",
    "print(l)"
   ]
  },
  {
   "cell_type": "markdown",
   "id": "fd92cb6a",
   "metadata": {},
   "source": [
    "### Problem 3"
   ]
  },
  {
   "cell_type": "markdown",
   "id": "dbb03e6b",
   "metadata": {},
   "source": [
    "For problem 3, use the following two lists, students and departments respectively"
   ]
  },
  {
   "cell_type": "code",
   "execution_count": 9,
   "id": "dc00f43e",
   "metadata": {},
   "outputs": [],
   "source": [
    "students=[\"MKT:Sherrie\",\n",
    "          \"OB:Jennifer\",\n",
    "          \"TOM:Priscilla\",\n",
    "          \"STR:Nety\",\n",
    "          \"STR:Tienchang\",\n",
    "          \"ENT:Pulkit\",\n",
    "          \"FIN:Meghana\",\n",
    "          \"STR:Constantin\",\n",
    "          \"ENT:Junghyo\",\n",
    "          \"MKT:Sherrie\",\n",
    "          \"OB:Jennifer\"]\n",
    "\n",
    "departments=[\"MKT\",\"OB\",\"TOM\",\"STR\",\"ENT\",\"FIN\"]"
   ]
  },
  {
   "cell_type": "code",
   "execution_count": 10,
   "id": "9d39ebcf",
   "metadata": {},
   "outputs": [
    {
     "data": {
      "text/plain": [
       "['MKT:Sherrie',\n",
       " 'OB:Jennifer',\n",
       " 'TOM:Priscilla',\n",
       " 'STR:Nety',\n",
       " 'STR:Tienchang',\n",
       " 'ENT:Pulkit',\n",
       " 'FIN:Meghana',\n",
       " 'STR:Constantin',\n",
       " 'ENT:Junghyo',\n",
       " 'MKT:Sherrie',\n",
       " 'OB:Jennifer']"
      ]
     },
     "execution_count": 10,
     "metadata": {},
     "output_type": "execute_result"
    }
   ],
   "source": [
    "students"
   ]
  },
  {
   "cell_type": "markdown",
   "id": "60b6f18d",
   "metadata": {},
   "source": [
    "#### Problem 3. Create an empty dictionary called d. Write a for loop that adds each department in departments (given list) as keys and the list of students in that department as values."
   ]
  },
  {
   "cell_type": "code",
   "execution_count": 11,
   "id": "32bfc8e5",
   "metadata": {},
   "outputs": [
    {
     "name": "stdout",
     "output_type": "stream",
     "text": [
      "['MKT', 'Sherrie', 'OB', 'Jennifer', 'TOM', 'Priscilla', 'STR', 'Nety', 'STR', 'Tienchang', 'ENT', 'Pulkit', 'FIN', 'Meghana', 'STR', 'Constantin', 'ENT', 'Junghyo']\n"
     ]
    },
    {
     "data": {
      "text/plain": [
       "{}"
      ]
     },
     "execution_count": 11,
     "metadata": {},
     "output_type": "execute_result"
    }
   ],
   "source": [
    "# Write a for loop that produces the following output in this cell, using the given lists (students & departments)\n",
    "# Start with creating a dictonary called d\n",
    "d = {}\n",
    "\n",
    "##############################################################################################\n",
    "# split the department from student\n",
    "# stu_list = [a for b in students for a in b.split(':')]\n",
    "# print(stu_list)\n",
    "    \n",
    "new_student = []\n",
    "for abr in students:\n",
    "    for c in abr.split(\":\"):\n",
    "        new_student.append(c)\n",
    "    else:\n",
    "        del new_student[18:22]\n",
    "print (new_student)\n",
    "\n",
    "# print (new_student.index(\"OB\"))\n",
    "\n",
    "# for i in departments:\n",
    "#     for dir in new_student:\n",
    "#         d[i] = new_student\n",
    "# print (d)   \n",
    "##############################################################################################\n",
    "d"
   ]
  },
  {
   "cell_type": "code",
   "execution_count": null,
   "id": "9add3308",
   "metadata": {},
   "outputs": [],
   "source": []
  }
 ],
 "metadata": {
  "kernelspec": {
   "display_name": "Python 3",
   "language": "python",
   "name": "python3"
  },
  "language_info": {
   "codemirror_mode": {
    "name": "ipython",
    "version": 3
   },
   "file_extension": ".py",
   "mimetype": "text/x-python",
   "name": "python",
   "nbconvert_exporter": "python",
   "pygments_lexer": "ipython3",
   "version": "3.8.8"
  }
 },
 "nbformat": 4,
 "nbformat_minor": 5
}
